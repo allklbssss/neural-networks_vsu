{
 "cells": [
  {
   "cell_type": "code",
   "execution_count": 222,
   "id": "79452cc9-8ecd-41c8-ae83-2232b4ed4dba",
   "metadata": {},
   "outputs": [],
   "source": [
    "import numpy as np\n",
    "import tensorflow.keras as keras\n",
    "import json\n",
    "import random"
   ]
  },
  {
   "cell_type": "code",
   "execution_count": 240,
   "id": "0ce9f789-c33a-488e-a741-6ef2a9d6555c",
   "metadata": {},
   "outputs": [],
   "source": [
    "with open('./input.json') as file:\n",
    "    data = json.load(file)"
   ]
  },
  {
   "cell_type": "code",
   "execution_count": 258,
   "id": "94596870-c86f-4531-8223-fa8773727765",
   "metadata": {},
   "outputs": [],
   "source": [
    "def generate_dataframe(data):\n",
    "    x, y = [], []\n",
    "    for _ in range(8000):\n",
    "        random_number = random.randint(0,9)\n",
    "\n",
    "        x.append(random.choice(data[str(random_number)]))\n",
    "        y.append(list(map(int, list('0' * random_number + '1' + (9 - random_number) * '0'))))\n",
    "    return x, y"
   ]
  },
  {
   "cell_type": "code",
   "execution_count": 259,
   "id": "ef9bb110-7b61-4696-8042-f8ad8e5aad38",
   "metadata": {},
   "outputs": [],
   "source": [
    "X, Y = generate_dataframe(data)"
   ]
  },
  {
   "cell_type": "code",
   "execution_count": 260,
   "id": "5f708472-97e3-4761-8155-b981635a8cc6",
   "metadata": {},
   "outputs": [],
   "source": [
    "def split(x, y, koef):\n",
    "    length = len(x)\n",
    "    X_train, Y_train = [], []\n",
    "    for _ in range(int(length * koef)):\n",
    "        random_number = random.randint(0,len(x) - 1)\n",
    "        \n",
    "        X_train.append(x.pop(random_number))\n",
    "        Y_train.append(y.pop(random_number))\n",
    "    return X_train, Y_train, x, y\n",
    "        "
   ]
  },
  {
   "cell_type": "code",
   "execution_count": 261,
   "id": "c43e02c0-671d-43dc-9682-0a1eec0c4490",
   "metadata": {},
   "outputs": [],
   "source": [
    "X_train, Y_train, X_temp, Y_temp = split(X, Y, 0.7)\n",
    "X_validation, Y_validation, X_test, Y_test = split(X_temp, Y_temp, 0.2)"
   ]
  },
  {
   "cell_type": "code",
   "execution_count": 262,
   "id": "2e3ec62e-10fd-4d4f-a48b-5be1ad463522",
   "metadata": {},
   "outputs": [],
   "source": [
    "model = keras.Sequential()\n",
    "model.add(keras.layers.Dense(input_shape=(35,), units=128, activation='relu'))\n",
    "model.add(keras.layers.Dense(30))\n",
    "model.add(keras.layers.Dense(25))\n",
    "model.add(keras.layers.Dense(20))\n",
    "model.add(keras.layers.Dense(15))\n",
    "model.add(keras.layers.Dense(10, activation='softmax'))"
   ]
  },
  {
   "cell_type": "code",
   "execution_count": 263,
   "id": "cde6a276-4e7b-4b97-b39a-c91713693aa2",
   "metadata": {},
   "outputs": [],
   "source": [
    "model.compile(optimizer='sgd',\n",
    "              loss='categorical_crossentropy',\n",
    "              metrics=['accuracy'])"
   ]
  },
  {
   "cell_type": "code",
   "execution_count": 264,
   "id": "63c2abbc-d09a-4643-84b9-abc3a8d77923",
   "metadata": {},
   "outputs": [
    {
     "name": "stdout",
     "output_type": "stream",
     "text": [
      "Epoch 1/5\n",
      "13/44 [=======>......................] - ETA: 0s - loss: 2.2092 - accuracy: 0.1905"
     ]
    },
    {
     "name": "stderr",
     "output_type": "stream",
     "text": [
      "2022-03-30 22:23:15.819254: I tensorflow/core/grappler/optimizers/custom_graph_optimizer_registry.cc:113] Plugin optimizer for device_type GPU is enabled.\n"
     ]
    },
    {
     "name": "stdout",
     "output_type": "stream",
     "text": [
      "44/44 [==============================] - 3s 55ms/step - loss: 2.0516 - accuracy: 0.2927 - val_loss: 1.8163 - val_accuracy: 0.4000\n",
      "Epoch 2/5\n",
      "13/44 [=======>......................] - ETA: 0s - loss: 1.7497 - accuracy: 0.4567"
     ]
    },
    {
     "name": "stderr",
     "output_type": "stream",
     "text": [
      "2022-03-30 22:23:18.197780: I tensorflow/core/grappler/optimizers/custom_graph_optimizer_registry.cc:113] Plugin optimizer for device_type GPU is enabled.\n"
     ]
    },
    {
     "name": "stdout",
     "output_type": "stream",
     "text": [
      "44/44 [==============================] - 0s 9ms/step - loss: 1.6031 - accuracy: 0.5845 - val_loss: 1.3935 - val_accuracy: 0.6646\n",
      "Epoch 3/5\n",
      "44/44 [==============================] - 0s 8ms/step - loss: 1.2092 - accuracy: 0.7596 - val_loss: 1.0388 - val_accuracy: 0.8167\n",
      "Epoch 4/5\n",
      "44/44 [==============================] - 0s 8ms/step - loss: 0.8827 - accuracy: 0.8711 - val_loss: 0.7392 - val_accuracy: 0.9125\n",
      "Epoch 5/5\n",
      "44/44 [==============================] - 0s 8ms/step - loss: 0.6156 - accuracy: 0.9214 - val_loss: 0.5061 - val_accuracy: 0.9500\n"
     ]
    },
    {
     "data": {
      "text/plain": [
       "<keras.callbacks.History at 0x28e59ce80>"
      ]
     },
     "execution_count": 264,
     "metadata": {},
     "output_type": "execute_result"
    }
   ],
   "source": [
    "model.fit(X_train, Y_train, epochs=5, batch_size=128, validation_data=(X_validation, Y_validation))"
   ]
  },
  {
   "cell_type": "code",
   "execution_count": 265,
   "id": "ed043432-5ab7-4318-84e7-26b6cf4856f1",
   "metadata": {},
   "outputs": [
    {
     "name": "stdout",
     "output_type": "stream",
     "text": [
      "25/60 [===========>..................] - ETA: 0s - loss: 0.4943 - accuracy: 0.9500"
     ]
    },
    {
     "name": "stderr",
     "output_type": "stream",
     "text": [
      "2022-03-30 22:23:28.216029: I tensorflow/core/grappler/optimizers/custom_graph_optimizer_registry.cc:113] Plugin optimizer for device_type GPU is enabled.\n"
     ]
    },
    {
     "name": "stdout",
     "output_type": "stream",
     "text": [
      "60/60 [==============================] - 1s 6ms/step - loss: 0.4804 - accuracy: 0.9557\n",
      "Точность 0.9557292461395264\n"
     ]
    }
   ],
   "source": [
    "print(\"Точность\", model.evaluate(X_test, Y_test)[1])"
   ]
  },
  {
   "cell_type": "code",
   "execution_count": 266,
   "id": "3dadb940-67c9-420f-bda7-e12897b3a4bf",
   "metadata": {},
   "outputs": [
    {
     "name": "stdout",
     "output_type": "stream",
     "text": [
      "WARNING:tensorflow:6 out of the last 10 calls to <function Model.make_predict_function.<locals>.predict_function at 0x2893bd9d0> triggered tf.function retracing. Tracing is expensive and the excessive number of tracings could be due to (1) creating @tf.function repeatedly in a loop, (2) passing tensors with different shapes, (3) passing Python objects instead of tensors. For (1), please define your @tf.function outside of the loop. For (2), @tf.function has experimental_relax_shapes=True option that relaxes argument shapes that can avoid unnecessary retracing. For (3), please refer to https://www.tensorflow.org/guide/function#controlling_retracing and https://www.tensorflow.org/api_docs/python/tf/function for  more details.\n"
     ]
    },
    {
     "name": "stderr",
     "output_type": "stream",
     "text": [
      "2022-03-30 22:23:28.667907: I tensorflow/core/grappler/optimizers/custom_graph_optimizer_registry.cc:113] Plugin optimizer for device_type GPU is enabled.\n"
     ]
    },
    {
     "data": {
      "text/plain": [
       "8"
      ]
     },
     "execution_count": 266,
     "metadata": {},
     "output_type": "execute_result"
    }
   ],
   "source": [
    "predicted_results = model.predict(np.array([0,1,1,1,0,1,0,0,0,1,1,0,0,0,1,0,1,1,1,0,1,0,0,0,1,1,0,0,0,1,0,1,1,1,0]).reshape(1,-1), batch_size=128)\n",
    "predicted_results.argmax()"
   ]
  },
  {
   "cell_type": "code",
   "execution_count": null,
   "id": "2d1fdf75-fa61-4c68-bf7e-5e835c17ffe1",
   "metadata": {},
   "outputs": [],
   "source": []
  },
  {
   "cell_type": "code",
   "execution_count": null,
   "id": "6f8003d1-6698-44b8-bcd4-fd9c76320a7a",
   "metadata": {},
   "outputs": [],
   "source": []
  }
 ],
 "metadata": {
  "kernelspec": {
   "display_name": "Python 3 (ipykernel)",
   "language": "python",
   "name": "python3"
  },
  "language_info": {
   "codemirror_mode": {
    "name": "ipython",
    "version": 3
   },
   "file_extension": ".py",
   "mimetype": "text/x-python",
   "name": "python",
   "nbconvert_exporter": "python",
   "pygments_lexer": "ipython3",
   "version": "3.9.12"
  }
 },
 "nbformat": 4,
 "nbformat_minor": 5
}
